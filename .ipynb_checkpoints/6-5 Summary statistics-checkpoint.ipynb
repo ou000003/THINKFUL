{
 "cells": [
  {
   "cell_type": "code",
   "execution_count": 2,
   "metadata": {},
   "outputs": [],
   "source": [
    "import pandas as pd\n",
    "import numpy as np\n",
    "import matplotlib.pyplot as plt"
   ]
  },
  {
   "cell_type": "code",
   "execution_count": 3,
   "metadata": {},
   "outputs": [],
   "source": [
    "df_st = pd.DataFrame()\n",
    "df_st['age'] = [14, 12, 11, 10, 8, 6, 8]\n",
    "df_st.index = ['Greg', 'Marcia', 'Peter', 'Jan', 'Bobby', 'Cindy', 'Oliver']"
   ]
  },
  {
   "cell_type": "code",
   "execution_count": 4,
   "metadata": {},
   "outputs": [
    {
     "data": {
      "text/html": [
       "<div>\n",
       "<style scoped>\n",
       "    .dataframe tbody tr th:only-of-type {\n",
       "        vertical-align: middle;\n",
       "    }\n",
       "\n",
       "    .dataframe tbody tr th {\n",
       "        vertical-align: top;\n",
       "    }\n",
       "\n",
       "    .dataframe thead th {\n",
       "        text-align: right;\n",
       "    }\n",
       "</style>\n",
       "<table border=\"1\" class=\"dataframe\">\n",
       "  <thead>\n",
       "    <tr style=\"text-align: right;\">\n",
       "      <th></th>\n",
       "      <th>age</th>\n",
       "    </tr>\n",
       "  </thead>\n",
       "  <tbody>\n",
       "    <tr>\n",
       "      <th>Greg</th>\n",
       "      <td>14</td>\n",
       "    </tr>\n",
       "    <tr>\n",
       "      <th>Marcia</th>\n",
       "      <td>12</td>\n",
       "    </tr>\n",
       "    <tr>\n",
       "      <th>Peter</th>\n",
       "      <td>11</td>\n",
       "    </tr>\n",
       "    <tr>\n",
       "      <th>Jan</th>\n",
       "      <td>10</td>\n",
       "    </tr>\n",
       "    <tr>\n",
       "      <th>Bobby</th>\n",
       "      <td>8</td>\n",
       "    </tr>\n",
       "    <tr>\n",
       "      <th>Cindy</th>\n",
       "      <td>6</td>\n",
       "    </tr>\n",
       "    <tr>\n",
       "      <th>Oliver</th>\n",
       "      <td>8</td>\n",
       "    </tr>\n",
       "  </tbody>\n",
       "</table>\n",
       "</div>"
      ],
      "text/plain": [
       "        age\n",
       "Greg     14\n",
       "Marcia   12\n",
       "Peter    11\n",
       "Jan      10\n",
       "Bobby     8\n",
       "Cindy     6\n",
       "Oliver    8"
      ]
     },
     "execution_count": 4,
     "metadata": {},
     "output_type": "execute_result"
    }
   ],
   "source": [
    "df_st"
   ]
  },
  {
   "cell_type": "code",
   "execution_count": 5,
   "metadata": {},
   "outputs": [
    {
     "name": "stdout",
     "output_type": "stream",
     "text": [
      " mean:  9.857142857142858  median:  10.0  variance:  6.408163265306122  mode:  8  std:  2.531435020952764  se:  1.0334540197243194\n"
     ]
    }
   ],
   "source": [
    "# 1)\n",
    "age_mu = np.mean(df_st['age'])\n",
    "age_med = np.median(df_st['age'])\n",
    "age_v= np.var(df_st['age'])\n",
    "age_mode = 8\n",
    "age_std = np.std(df_st['age'])\n",
    "age_se = np.std(df_st['age'])/np.sqrt(6)\n",
    "\n",
    "print(\" mean: \",age_mu, \" median: \", age_med, \" variance: \", age_v, \" mode: \", age_mode, \" std: \", age_std, \" se: \", age_se)"
   ]
  },
  {
   "cell_type": "code",
   "execution_count": 6,
   "metadata": {},
   "outputs": [],
   "source": [
    "# 2) \n",
    "# I will choose mean(9.85) to be the cintral tendency, since the whole list is short, the mean is representive enough\n",
    "# Choose variance(6.4) to describe the variance, the number is larger and I feel it's more intuitively close to the fact"
   ]
  },
  {
   "cell_type": "code",
   "execution_count": 7,
   "metadata": {},
   "outputs": [
    {
     "name": "stdout",
     "output_type": "stream",
     "text": [
      " mean:  10.0  median:  10.0  variance:  5.428571428571429  mode:  8  std:  2.32992949004287  se:  0.951189731211342\n"
     ]
    }
   ],
   "source": [
    "# 3) \n",
    "df_st.loc['Cindy'] = 7\n",
    "age_mu = np.mean(df_st['age'])\n",
    "age_med = np.median(df_st['age'])\n",
    "age_v= np.var(df_st['age'])\n",
    "age_mode = 8\n",
    "age_std = np.std(df_st['age'])\n",
    "age_se = np.std(df_st['age'])/np.sqrt(6)\n",
    "\n",
    "print(\" mean: \",age_mu, \" median: \", age_med, \" variance: \", age_v, \" mode: \", age_mode, \" std: \", age_std, \" se: \", age_se)\n",
    "# Mean equal to the median now, I can surely confrim that the central tendency is very close to 10\n",
    "# all variances decrease, which will use variance to describe our the level of variance of our data"
   ]
  },
  {
   "cell_type": "code",
   "execution_count": 8,
   "metadata": {},
   "outputs": [
    {
     "data": {
      "text/html": [
       "<div>\n",
       "<style scoped>\n",
       "    .dataframe tbody tr th:only-of-type {\n",
       "        vertical-align: middle;\n",
       "    }\n",
       "\n",
       "    .dataframe tbody tr th {\n",
       "        vertical-align: top;\n",
       "    }\n",
       "\n",
       "    .dataframe thead th {\n",
       "        text-align: right;\n",
       "    }\n",
       "</style>\n",
       "<table border=\"1\" class=\"dataframe\">\n",
       "  <thead>\n",
       "    <tr style=\"text-align: right;\">\n",
       "      <th></th>\n",
       "      <th>age</th>\n",
       "    </tr>\n",
       "  </thead>\n",
       "  <tbody>\n",
       "    <tr>\n",
       "      <th>Greg</th>\n",
       "      <td>14</td>\n",
       "    </tr>\n",
       "    <tr>\n",
       "      <th>Marcia</th>\n",
       "      <td>12</td>\n",
       "    </tr>\n",
       "    <tr>\n",
       "      <th>Peter</th>\n",
       "      <td>11</td>\n",
       "    </tr>\n",
       "    <tr>\n",
       "      <th>Jan</th>\n",
       "      <td>10</td>\n",
       "    </tr>\n",
       "    <tr>\n",
       "      <th>Bobby</th>\n",
       "      <td>8</td>\n",
       "    </tr>\n",
       "    <tr>\n",
       "      <th>Cindy</th>\n",
       "      <td>7</td>\n",
       "    </tr>\n",
       "    <tr>\n",
       "      <th>Jessica</th>\n",
       "      <td>1</td>\n",
       "    </tr>\n",
       "  </tbody>\n",
       "</table>\n",
       "</div>"
      ],
      "text/plain": [
       "         age\n",
       "Greg      14\n",
       "Marcia    12\n",
       "Peter     11\n",
       "Jan       10\n",
       "Bobby      8\n",
       "Cindy      7\n",
       "Jessica    1"
      ]
     },
     "execution_count": 8,
     "metadata": {},
     "output_type": "execute_result"
    }
   ],
   "source": [
    "df_st = df_st.drop('Oliver')\n",
    "df_st.loc['Jessica'] = 1\n",
    "df_st"
   ]
  },
  {
   "cell_type": "code",
   "execution_count": 9,
   "metadata": {},
   "outputs": [
    {
     "name": "stdout",
     "output_type": "stream",
     "text": [
      " mean:  9.0  median:  10.0  variance:  15.428571428571429  mode:  8  std:  3.927922024247863  se:  1.6035674514745466\n"
     ]
    }
   ],
   "source": [
    "age_mu = np.mean(df_st['age'])\n",
    "age_med = np.median(df_st['age'])\n",
    "age_v= np.var(df_st['age'])\n",
    "age_mode = 8\n",
    "age_std = np.std(df_st['age'])\n",
    "age_se = np.std(df_st['age'])/np.sqrt(6)\n",
    "\n",
    "print(\" mean: \",age_mu, \" median: \", age_med, \" variance: \", age_v, \" mode: \", age_mode, \" std: \", age_std, \" se: \", age_se)"
   ]
  },
  {
   "cell_type": "code",
   "execution_count": 10,
   "metadata": {},
   "outputs": [],
   "source": [
    "# 4)\n",
    "# Now I would use mode to be the central tendency, since we have a extreme low value in the list, choosing the most commen\n",
    "# values in the list makes more sense then 9 or 10;\n",
    "# for the variance, 15.4 is very representive since it shows the big range of our age list "
   ]
  },
  {
   "cell_type": "code",
   "execution_count": 11,
   "metadata": {},
   "outputs": [
    {
     "data": {
      "text/plain": [
       "16.25"
      ]
     },
     "execution_count": 11,
     "metadata": {},
     "output_type": "execute_result"
    }
   ],
   "source": [
    "# 5) Althought the mean of thses survey is 16.25%, I'm thinking it should be even lower since not everyone's willing \n",
    "# to participate into the survey. Also, surveys are pre-selected to readers, which is not random. \n",
    "np.mean([20,23,17,5])"
   ]
  }
 ],
 "metadata": {
  "kernelspec": {
   "display_name": "Python 3",
   "language": "python",
   "name": "python3"
  },
  "language_info": {
   "codemirror_mode": {
    "name": "ipython",
    "version": 3
   },
   "file_extension": ".py",
   "mimetype": "text/x-python",
   "name": "python",
   "nbconvert_exporter": "python",
   "pygments_lexer": "ipython3",
   "version": "3.6.6"
  }
 },
 "nbformat": 4,
 "nbformat_minor": 2
}
