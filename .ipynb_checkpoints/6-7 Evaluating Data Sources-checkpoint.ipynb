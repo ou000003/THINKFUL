{
 "cells": [
  {
   "cell_type": "markdown",
   "metadata": {},
   "source": [
    "Data Source: Amsterdam availability data scraped from AirBnB on December 24th.\n",
    "\n",
    "Question: What are the popular neighborhoods in Amsterdam?\n",
    "\n",
    "- Airbnb dataset can only shows the data of 'visitors' & 'holiday season', I would use the question \"What ate the mosr popular neighnorhood for tourist to visit?\"\n",
    "\n",
    "Theoretical Data Source: Mental health services use on September 12, 2001 in San Francisco, CA and New York City, NY.\n",
    "\n",
    "Question: How do patterns of mental health service use vary between cities?\n",
    "\n",
    "- The timeing of the survey will make thr result skewed because it's took right after the 911. Better to choose another city to replace NYC. \n",
    "\n",
    "Actual Data Source: Armenian Pub Survey.\n",
    "\n",
    "Question: What are the most common reasons Armenians visit local pubs?\n",
    "\n",
    "- students took up to 70%, will reframe the question into \"What are the most common reasons Armenians students visit local pubs?\""
   ]
  }
 ],
 "metadata": {
  "kernelspec": {
   "display_name": "Python 3",
   "language": "python",
   "name": "python3"
  },
  "language_info": {
   "codemirror_mode": {
    "name": "ipython",
    "version": 3
   },
   "file_extension": ".py",
   "mimetype": "text/x-python",
   "name": "python",
   "nbconvert_exporter": "python",
   "pygments_lexer": "ipython3",
   "version": "3.6.6"
  }
 },
 "nbformat": 4,
 "nbformat_minor": 2
}
