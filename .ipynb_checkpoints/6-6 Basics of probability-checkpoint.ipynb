{
 "cells": [
  {
   "cell_type": "code",
   "execution_count": 4,
   "metadata": {},
   "outputs": [
    {
     "data": {
      "text/plain": [
       "0.0625"
      ]
     },
     "execution_count": 4,
     "metadata": {},
     "output_type": "execute_result"
    }
   ],
   "source": [
    "# D1-1\n",
    "0.5*0.5*0.5*0.5"
   ]
  },
  {
   "cell_type": "code",
   "execution_count": 5,
   "metadata": {},
   "outputs": [
    {
     "data": {
      "text/plain": [
       "0.5333333333333333"
      ]
     },
     "execution_count": 5,
     "metadata": {},
     "output_type": "execute_result"
    }
   ],
   "source": [
    "# D1-2\n",
    "24/(24+21)"
   ]
  },
  {
   "cell_type": "code",
   "execution_count": 6,
   "metadata": {},
   "outputs": [
    {
     "data": {
      "text/plain": [
       "5e-06"
      ]
     },
     "execution_count": 6,
     "metadata": {},
     "output_type": "execute_result"
    }
   ],
   "source": [
    "# D1-3\n",
    "0.1*0.00005"
   ]
  },
  {
   "cell_type": "code",
   "execution_count": 7,
   "metadata": {},
   "outputs": [
    {
     "ename": "SyntaxError",
     "evalue": "invalid syntax (<ipython-input-7-48aa8d8b4939>, line 2)",
     "output_type": "error",
     "traceback": [
      "\u001b[0;36m  File \u001b[0;32m\"<ipython-input-7-48aa8d8b4939>\"\u001b[0;36m, line \u001b[0;32m2\u001b[0m\n\u001b[0;31m    A data scientist wants to study the behavior of users on the company website.\u001b[0m\n\u001b[0m         ^\u001b[0m\n\u001b[0;31mSyntaxError\u001b[0m\u001b[0;31m:\u001b[0m invalid syntax\n"
     ]
    }
   ],
   "source": [
    "# D1-4\n",
    "A data scientist wants to study the behavior of users on the company website. \n",
    "Each time a user clicks on a link on the website, \n",
    "there is a 5% chance that the user will be asked to complete a short survey about their behavior on the website. \n",
    "The data scientist uses the survey data to conclude that, on average, \n",
    "users spend 15 minutes surfing the company website before moving on to other things. \n",
    "What is wrong with this conclusion?"
   ]
  },
  {
   "cell_type": "code",
   "execution_count": 8,
   "metadata": {},
   "outputs": [],
   "source": [
    "# D2\n",
    "# A diagnostic test has a 98% probability of giving a positive result when applied to a person suffering from Thripshaw's Disease, \n",
    "# and 10% probability of giving a (false) positive when applied to a non-sufferer. \n",
    "# It is estimated that 0.5 % of the population are sufferers. \n",
    "# Suppose that the test is now administered to a person whose disease status is unknown. \n",
    "# Calculate the probability that the test will:\n",
    "\n",
    "Be_positive = 0.98* 0.001* 0.5 + 0.1* 0.95* 0.5 \n",
    "Correctly_diagnose_sufferer_Thripshaw = 0.98* 0.001* 0.05\n",
    "Correctly_identify_non_sufferer_Thripshaw = 0.9* 0.095* 0.001\n",
    "Misclassify_the_person = 0.02* 0.001* 0.5 + 0.1* 0.95* 0.5 "
   ]
  },
  {
   "cell_type": "code",
   "execution_count": 9,
   "metadata": {},
   "outputs": [
    {
     "name": "stdout",
     "output_type": "stream",
     "text": [
      "0.04799  4.9e-05  8.55e-05  0.047510000000000004\n"
     ]
    }
   ],
   "source": [
    "print(Be_positive, \"\", Correctly_diagnose_sufferer_Thripshaw, \"\", Correctly_identify_non_sufferer_Thripshaw, \"\",\n",
    "     Misclassify_the_person)"
   ]
  },
  {
   "cell_type": "markdown",
   "metadata": {},
   "source": [
    "Be positive= .98*.005 + .1*.995 = .1044\n",
    "Correctly diagnose a sufferer of Thripshaw’s= .98\n",
    "Correctly identify a non-sufferer of Thripshaw’s = .9\n",
    "Misclassify the person= 1-(.98*.005 + .9*.995)=.0996"
   ]
  }
 ],
 "metadata": {
  "kernelspec": {
   "display_name": "Python 3",
   "language": "python",
   "name": "python3"
  },
  "language_info": {
   "codemirror_mode": {
    "name": "ipython",
    "version": 3
   },
   "file_extension": ".py",
   "mimetype": "text/x-python",
   "name": "python",
   "nbconvert_exporter": "python",
   "pygments_lexer": "ipython3",
   "version": "3.6.6"
  }
 },
 "nbformat": 4,
 "nbformat_minor": 2
}
