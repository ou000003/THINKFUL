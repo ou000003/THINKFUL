{
 "cells": [
  {
   "cell_type": "markdown",
   "metadata": {},
   "source": [
    "1. The testing group received the slogan through different people. \n",
    "2. The size of the planets did not inform in the questions. I assumed the size of the planets might different, so it could no truly represent the population.\n",
    "3. The sample groups are not selected similarly. The satisfaction rate may be inaccurate due to the country.\n",
    "4. For people who download the app, their tendency to be active is naturally more.\n",
    "5. The way teach stack the test is in order, that made the students who arrive in the middle time frame all taking the same version of it. Is there a possibility the C test is easier, but they never have time to finish? "
   ]
  }
 ],
 "metadata": {
  "kernelspec": {
   "display_name": "Python 3",
   "language": "python",
   "name": "python3"
  },
  "language_info": {
   "codemirror_mode": {
    "name": "ipython",
    "version": 3
   },
   "file_extension": ".py",
   "mimetype": "text/x-python",
   "name": "python",
   "nbconvert_exporter": "python",
   "pygments_lexer": "ipython3",
   "version": "3.6.6"
  }
 },
 "nbformat": 4,
 "nbformat_minor": 2
}
