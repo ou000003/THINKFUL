{
 "cells": [
  {
   "cell_type": "markdown",
   "metadata": {},
   "source": [
    "* Will a new homepage improve my online exotic pet rental business?\n",
    "Randomly select half of all visiting users old and new homepages to monitor the money spend for each group on average for the next 30 days. Compare with history rental records; if the rental money spends increase more then two standard deviations, we can conclude that the new web page is helping the business. If within 30 days the rental money did not increase, stop showing the new page. "
   ]
  },
  {
   "cell_type": "code",
   "execution_count": null,
   "metadata": {},
   "outputs": [],
   "source": []
  }
 ],
 "metadata": {
  "kernelspec": {
   "display_name": "Python 3",
   "language": "python",
   "name": "python3"
  },
  "language_info": {
   "codemirror_mode": {
    "name": "ipython",
    "version": 3
   },
   "file_extension": ".py",
   "mimetype": "text/x-python",
   "name": "python",
   "nbconvert_exporter": "python",
   "pygments_lexer": "ipython3",
   "version": "3.6.6"
  }
 },
 "nbformat": 4,
 "nbformat_minor": 2
}
