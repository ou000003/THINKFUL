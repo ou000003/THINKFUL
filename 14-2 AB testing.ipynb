{
 "cells": [
  {
   "cell_type": "markdown",
   "metadata": {},
   "source": [
    "* Does a new supplement help people sleep better? \n",
    "  1. Two Versions: \n",
    "     - Test: Group of sample provide with the supplement\n",
    "     - Control: Another group of people provide placebo\n",
    "  2. A sample: Group of experiment objects that share same featurs. \n",
    "  3. A hypothesis: New supplement helps sleep quality. \n",
    "  4. Key Metric outcome: Use devises like apple health to monitor their sleep quality and time. \n",
    "  5. other variables: Other matrics captured by the monitor.\n",
    " \n",
    " \n",
    " \n",
    "* Will new uniforms help a gym's business?\n",
    "  1. Two Versions: \n",
    "     - Test: For even weeks in winter, employees should wear uniforms. \n",
    "     - Control: On odd weeks in winter, employees wear theie own clothes.\n",
    "  2. A sample: Split control and test group by time.\n",
    "  3. A hypothesis: New uniforms help the memeber of gym increase. \n",
    "  4. Key Metric outcome: Record the number of new members signing up.  \n",
    "  5. other variables: How long members stay in the gym? Also record for each employees, the time of interaction with the clients. \n",
    "  \n",
    "  \n",
    "  \n",
    "* Will a new homepage improve my online exotic pet rental business?\n",
    "  1. Two Versions: \n",
    "     - Test: User experience new homepage\n",
    "     - Control: User with old homepage\n",
    "  2. A sample: All users click into my webside.\n",
    "  3. A hypothesis: New homepage boost my business.  \n",
    "  4. Key Metric outcome: Measure the click-through rate from new homepage and old. \n",
    "  5. other variables: How long thay spend each session, on old and new homw page each? How much they spoend on their rental?\n",
    "  \n",
    "  \n",
    "  \n",
    "* If I put 'please read' in the email subject will more people read my emails?\n",
    "  1. Two Versions: \n",
    "     - Test: emails with subject \"Please read\"\n",
    "     - Control: emails with original convention of subject \n",
    "  2. A sample: Randomly choose same amount of receivers.  \n",
    "  3. A hypothesis: Plase Read title improve the rate of people read the content. \n",
    "  4. Key Metric outcome: Is relatively hard to measure because we have to define \"READ\" first. Do people open the email always read? Or even if they open, do they read through the completed content. I will say if we can measure the open mail rate, could be the most close measure we can have. \n",
    "  5. other variables: We can measure the following interaction led by the mail (Like questions to author). Also, we can see if the unsubscribe rate got affected or not."
   ]
  }
 ],
 "metadata": {
  "kernelspec": {
   "display_name": "Python 3",
   "language": "python",
   "name": "python3"
  },
  "language_info": {
   "codemirror_mode": {
    "name": "ipython",
    "version": 3
   },
   "file_extension": ".py",
   "mimetype": "text/x-python",
   "name": "python",
   "nbconvert_exporter": "python",
   "pygments_lexer": "ipython3",
   "version": "3.6.6"
  }
 },
 "nbformat": 4,
 "nbformat_minor": 2
}
