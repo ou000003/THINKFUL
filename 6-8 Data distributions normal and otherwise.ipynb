{
 "cells": [
  {
   "cell_type": "code",
   "execution_count": 2,
   "metadata": {},
   "outputs": [],
   "source": [
    "import numpy as np\n",
    "import pandas as pd\n",
    "import matplotlib.pyplot as plt\n",
    "%matplotlib inline"
   ]
  },
  {
   "cell_type": "code",
   "execution_count": 3,
   "metadata": {},
   "outputs": [
    {
     "data": {
      "image/png": "[encoded data removed]",
      "text/plain": [
       "<Figure size 432x288 with 1 Axes>"
      ]
     },
     "metadata": {},
     "output_type": "display_data"
    }
   ],
   "source": [
    "logistic = np.random.logistic(10, 3, 100)\n",
    "plt.hist(logistic)\n",
    "plt.axvline(logistic.mean(), color='r', linestyle='solid', linewidth=2)\n",
    "plt.axvline(logistic.mean() + logistic.std(), color='r', linestyle='dashed', linewidth=2)\n",
    "plt.axvline(logistic.mean() - logistic.std(), color='r', linestyle='dashed', linewidth=2) \n",
    "plt.show()"
   ]
  },
  {
   "cell_type": "markdown",
   "metadata": {},
   "source": [
    "Evaluate whether the descriptive statistics provided useful information about the variable.\n",
    "\n",
    "* They did since the mean still locates at the bin who has the most values sit.\n",
    "\n",
    "Can you identify any common characteristics of the distributions that could be usefully described using the mean and/or standard deviation, versus the ones that could not?\n",
    "\n",
    "* Common characteristics I found are the bell shape of the distribution chart, we can use desriptive statistics to imagine the chart with skewed. "
   ]
  }
 ],
 "metadata": {
  "kernelspec": {
   "display_name": "Python 3",
   "language": "python",
   "name": "python3"
  },
  "language_info": {
   "codemirror_mode": {
    "name": "ipython",
    "version": 3
   },
   "file_extension": ".py",
   "mimetype": "text/x-python",
   "name": "python",
   "nbconvert_exporter": "python",
   "pygments_lexer": "ipython3",
   "version": "3.6.6"
  }
 },
 "nbformat": 4,
 "nbformat_minor": 2
}
