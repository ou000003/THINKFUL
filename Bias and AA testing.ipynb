{
 "cells": [
  {
   "cell_type": "markdown",
   "metadata": {},
   "source": [
    "* You're testing advertising emails for a bathing suit company, and you test one version of the email in February and the other in May.\n",
    " \n",
    "Testing & control groups are not similar to a season-wise aspect. For the group the received experiment in May, their tendency to react to bathing suit is naturally greater since it's closing to summer.\n",
    " \n",
    "* You open a clinic to treat anxiety and find that the people who visit show a higher rate of stress than the general population.\n",
    " \n",
    "Since people who visit a clinic that treats anxiety tend to have anxiety issue or he/she won't even bother to visit a clinic for the treatments. The conclusion is not reliable.\n",
    " \n",
    "* You launch a new ad billboard based campaign and see an increase in website visits in the first week.\n",
    " \n",
    "here we are comparing 'before billboard' and 'after billboard,' we are unable to isolate the stimuli only on seeing the billboard without control every other factor.\n",
    " \n",
    "* You launch a loyalty program but see no change in visits in the first week.\n",
    "\n",
    "The loyalty program tends to attract return customers instead of first-time customers. That is to say, we need more time to capture the return customer. "
   ]
  },
  {
   "cell_type": "code",
   "execution_count": null,
   "metadata": {},
   "outputs": [],
   "source": []
  }
 ],
 "metadata": {
  "kernelspec": {
   "display_name": "Python 3",
   "language": "python",
   "name": "python3"
  },
  "language_info": {
   "codemirror_mode": {
    "name": "ipython",
    "version": 3
   },
   "file_extension": ".py",
   "mimetype": "text/x-python",
   "name": "python",
   "nbconvert_exporter": "python",
   "pygments_lexer": "ipython3",
   "version": "3.6.6"
  }
 },
 "nbformat": 4,
 "nbformat_minor": 2
}
