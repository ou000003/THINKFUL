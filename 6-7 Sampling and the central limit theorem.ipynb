{
 "cells": [
  {
   "cell_type": "code",
   "execution_count": 42,
   "metadata": {},
   "outputs": [],
   "source": [
    "import numpy as np\n",
    "import pandas as pd\n",
    "import scipy\n",
    "import matplotlib.pyplot as plt\n",
    "from scipy.stats import ttest_ind\n",
    "pd.options.display.float_format = '{:.2f}'.format\n",
    "%matplotlib inline"
   ]
  },
  {
   "cell_type": "code",
   "execution_count": 43,
   "metadata": {},
   "outputs": [],
   "source": [
    "pop1 = np.random.binomial(10, 0.2, 10000)\n",
    "pop2 = np.random.binomial(10, 0.5, 10000) "
   ]
  },
  {
   "cell_type": "code",
   "execution_count": 44,
   "metadata": {},
   "outputs": [
    {
     "name": "stdout",
     "output_type": "stream",
     "text": [
      "S1 mean: 1.9905\n",
      "S2 mean: 4.9775\n",
      "S1 std: 1.2623033510214572\n",
      "S2 std: 1.556275602199045\n",
      "diff:  2.987\n"
     ]
    },
    {
     "data": {
      "image/png": "[encoded data removed]",
      "text/plain": [
       "<Figure size 432x288 with 1 Axes>"
      ]
     },
     "metadata": {},
     "output_type": "display_data"
    }
   ],
   "source": [
    "sample1 = np.random.choice(pop1, 2000, replace=True)\n",
    "sample2 = np.random.choice(pop2, 2000, replace=True)\n",
    "\n",
    "print('S1 mean:',sample1.mean())\n",
    "print('S2 mean:',sample2.mean())\n",
    "print('S1 std:',sample1.std())\n",
    "print('S2 std:',sample2.std())\n",
    "\n",
    "diff = sample2.mean( ) - sample1.mean()\n",
    "print('diff: ',diff)\n",
    "\n",
    "plt.hist(sample1, alpha=0.5, label='sample 1') \n",
    "plt.hist(sample2, alpha=0.5, label='sample 2') \n",
    "plt.legend(loc='upper right') \n",
    "plt.show()"
   ]
  },
  {
   "cell_type": "code",
   "execution_count": 45,
   "metadata": {},
   "outputs": [
    {
     "name": "stdout",
     "output_type": "stream",
     "text": [
      "S1 mean: 1.89\n",
      "S2 mean: 4.9\n",
      "S1 std: 1.2640806936267954\n",
      "S2 std: 1.4730919862656238\n",
      "diff:  3.0100000000000007\n"
     ]
    },
    {
     "data": {
      "image/png": "[encoded data removed]",
      "text/plain": [
       "<Figure size 432x288 with 1 Axes>"
      ]
     },
     "metadata": {},
     "output_type": "display_data"
    }
   ],
   "source": [
    "sample1 = np.random.choice(pop1, 100, replace=True)\n",
    "sample2 = np.random.choice(pop2, 100, replace=True)\n",
    "\n",
    "print('S1 mean:',sample1.mean())\n",
    "print('S2 mean:',sample2.mean())\n",
    "print('S1 std:',sample1.std())\n",
    "print('S2 std:',sample2.std())\n",
    "\n",
    "diff = sample2.mean( ) - sample1.mean()\n",
    "print('diff: ',diff)\n",
    "\n",
    "plt.hist(sample1, alpha=0.5, label='sample 1') \n",
    "plt.hist(sample2, alpha=0.5, label='sample 2') \n",
    "plt.legend(loc='upper right') \n",
    "plt.show()"
   ]
  },
  {
   "cell_type": "code",
   "execution_count": 46,
   "metadata": {},
   "outputs": [
    {
     "name": "stdout",
     "output_type": "stream",
     "text": [
      "S1 mean: 2.45\n",
      "S2 mean: 5.1\n",
      "S1 std: 1.16081867662439\n",
      "S2 std: 1.3379088160259651\n",
      "diff:  2.6499999999999995\n"
     ]
    },
    {
     "data": {
      "image/png": "[encoded data removed]",
      "text/plain": [
       "<Figure size 432x288 with 1 Axes>"
      ]
     },
     "metadata": {},
     "output_type": "display_data"
    }
   ],
   "source": [
    "sample1 = np.random.choice(pop1, 20, replace=True)\n",
    "sample2 = np.random.choice(pop2, 20, replace=True)\n",
    "\n",
    "print('S1 mean:',sample1.mean())\n",
    "print('S2 mean:',sample2.mean())\n",
    "print('S1 std:',sample1.std())\n",
    "print('S2 std:',sample2.std())\n",
    "\n",
    "diff = sample2.mean( ) - sample1.mean()\n",
    "print('diff: ',diff)\n",
    "\n",
    "plt.hist(sample1, alpha=0.5, label='sample 1') \n",
    "plt.hist(sample2, alpha=0.5, label='sample 2') \n",
    "plt.legend(loc='upper right') \n",
    "plt.show()"
   ]
  },
  {
   "cell_type": "code",
   "execution_count": 47,
   "metadata": {},
   "outputs": [
    {
     "name": "stdout",
     "output_type": "stream",
     "text": [
      "Ttest_indResult(statistic=9.29417146412006, pvalue=2.7676167441406962e-17)\n"
     ]
    }
   ],
   "source": [
    "pop1 = np.random.binomial(10, 0.3, 10000)\n",
    "pop2 = np.random.binomial(10, 0.5, 10000) \n",
    "\n",
    "sample1 = np.random.choice(pop1, 100, replace=True)\n",
    "sample2 = np.random.choice(pop2, 100, replace=True)\n",
    "\n",
    "print(ttest_ind(sample2, sample1, equal_var=False))"
   ]
  },
  {
   "cell_type": "code",
   "execution_count": 48,
   "metadata": {},
   "outputs": [
    {
     "name": "stdout",
     "output_type": "stream",
     "text": [
      "Ttest_indResult(statistic=5.984138301683365, pvalue=1.0047803347188108e-08)\n"
     ]
    }
   ],
   "source": [
    "pop1 = np.random.binomial(10, 0.4, 10000)\n",
    "pop2 = np.random.binomial(10, 0.5, 10000) \n",
    "\n",
    "sample1 = np.random.choice(pop1, 100, replace=True)\n",
    "sample2 = np.random.choice(pop2, 100, replace=True)\n",
    "\n",
    "print(ttest_ind(sample2, sample1, equal_var=False))"
   ]
  },
  {
   "cell_type": "code",
   "execution_count": 64,
   "metadata": {},
   "outputs": [
    {
     "name": "stdout",
     "output_type": "stream",
     "text": [
      "S1 mean: 0.092\n",
      "S2 mean: 1.0195\n",
      "P1 std: 0.095\n",
      "P2 std: 0.992\n"
     ]
    }
   ],
   "source": [
    "pop1 = np.random.poisson(0.1, 10000)\n",
    "pop2 = np.random.poisson(1, 10000) \n",
    "\n",
    "sample1 = np.random.choice(pop1, 2000, replace=True)\n",
    "sample2 = np.random.choice(pop2, 2000, replace=True)\n",
    "\n",
    "print('S1 mean:',sample1.mean())\n",
    "print('S2 mean:',sample2.mean())\n",
    "print('P1 std:',pop1.mean())\n",
    "print('P2 std:',pop2.mean())"
   ]
  },
  {
   "cell_type": "markdown",
   "metadata": {},
   "source": [
    "Increase the size of your samples from 100 to 1000, then calculate the means and standard deviations for your new samples and create histograms for each. Repeat this again, decreasing the size of your samples to 20. What values change, and what remain the same?\n",
    "\n",
    "* All the values changed. However, the difference between means remains pretty close.\n",
    "\n",
    "Change the probability value (p in the NumPy documentation) for pop1 to 0.3, then take new samples and compute the t-statistic and p-value. Then change the probability value p for group 1 to 0.4, and do it again. What changes, and why? \n",
    "\n",
    "* t-values decrease, p-value did the opposite are led by the closer of the distributions. \n",
    "\n",
    "Change the distribution of your populations from binomial to a distribution of your choice. Do the sample mean values still accurately represent the population values?\n",
    "\n",
    "* Yes they are reletively close. "
   ]
  }
 ],
 "metadata": {
  "kernelspec": {
   "display_name": "Python 3",
   "language": "python",
   "name": "python3"
  },
  "language_info": {
   "codemirror_mode": {
    "name": "ipython",
    "version": 3
   },
   "file_extension": ".py",
   "mimetype": "text/x-python",
   "name": "python",
   "nbconvert_exporter": "python",
   "pygments_lexer": "ipython3",
   "version": "3.6.6"
  }
 },
 "nbformat": 4,
 "nbformat_minor": 2
}
